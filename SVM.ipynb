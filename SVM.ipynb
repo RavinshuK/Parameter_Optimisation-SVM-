{
 "cells": [
  {
   "cell_type": "code",
   "execution_count": 2,
   "id": "216d230d",
   "metadata": {},
   "outputs": [],
   "source": [
    "import pandas as pd\n",
    "import numpy as np\n",
    "\n",
    "url = \"https://archive.ics.uci.edu/ml/machine-learning-databases/letter-recognition/letter-recognition.data\"\n",
    "df = pd.read_csv(url, header=None)"
   ]
  },
  {
   "cell_type": "code",
   "execution_count": null,
   "id": "06db4c85",
   "metadata": {},
   "outputs": [],
   "source": [
    "import pandas as pd\n",
    "import numpy as np\n",
    "import matplotlib.pyplot as plt\n",
    "from sklearn.svm import SVC\n",
    "from sklearn.model_selection import train_test_split, GridSearchCV, learning_curve\n",
    "\n",
    "# Load the dataset\n",
    "url = \"https://archive.ics.uci.edu/ml/machine-learning-databases/letter-recognition/letter-recognition.data\"\n",
    "data = pd.read_csv(url, header=None)\n",
    "\n",
    "# Define the range of samples\n",
    "n_samples = 10\n",
    "\n",
    "# Define the parameter grid to search over\n",
    "param_grid = {'C': [0.1, 1, 10], 'kernel': ['linear', 'rbf'], 'gamma': ['scale', 'auto']}\n",
    "\n",
    "# Initialize arrays to store the results\n",
    "accuracies = np.zeros(n_samples)\n",
    "train_sizes = np.zeros(10)\n",
    "train_scores = np.zeros((n_samples, len(train_sizes)))\n",
    "test_scores = np.zeros((n_samples, len(train_sizes)))\n",
    "\n",
    "\n",
    "# Loop over the samples\n",
    "for i in range(n_samples):\n",
    "    # Split the data into training and testing sets\n",
    "    train_data, test_data, train_labels, test_labels = train_test_split(data.iloc[:, 1:], data.iloc[:, 0], test_size=0.3, random_state=i)\n",
    "    \n",
    "    # Initialize the SVM and the GridSearchCV object\n",
    "    svm = SVC()\n",
    "    grid_search = GridSearchCV(svm, param_grid, cv=10)\n",
    "    \n",
    "    # Fit the GridSearchCV object to the training data\n",
    "    grid_search.fit(train_data, train_labels)\n",
    "    \n",
    "    # Get the best hyperparameters and the corresponding accuracy\n",
    "    best_params = grid_search.best_params_\n",
    "    best_svm = SVC(C=best_params['C'], kernel=best_params['kernel'], gamma=best_params['gamma'])\n",
    "    best_svm.fit(train_data, train_labels)\n",
    "    accuracies[i] = best_svm.score(test_data, test_labels)\n",
    "    \n",
    "    # Calculate the learning curve\n",
    "    train_sizes[i], train_scores[i], test_scores[i] = learning_curve(best_svm, train_data, train_labels, cv=10, scoring='accuracy', train_sizes=np.linspace(0.1, 1.0, 10))\n",
    "    \n",
    "# Find the sample with the maximum accuracy\n",
    "max_index = np.argmax(accuracies)\n",
    "\n",
    "# Plot the learning curve for the sample with the maximum accuracy\n",
    "plt.figure()\n",
    "plt.title('Learning Curve (SVM)')\n",
    "plt.xlabel('Training Set Size')\n",
    "plt.ylabel('Accuracy')\n",
    "plt.ylim(0.7, 1.0)\n",
    "plt.fill_between(train_sizes[max_index], np.mean(train_scores[max_index], axis=1) - np.std(train_scores[max_index], axis=1), np.mean(train_scores[max_index], axis=1) + np.std(train_scores[max_index], axis=1), alpha=0.1, color='r')\n",
    "plt.fill_between(train_sizes[max_index], np.mean(test_scores[max_index], axis=1) - np.std(test_scores[max_index], axis=1), np.mean(test_scores[max_index], axis=1) + np.std(test_scores[max_index], axis=1), alpha=0.1, color='g')\n",
    "plt.plot(train_sizes[max_index], np.mean(train_scores[max_index], axis=1), 'o-', color='r', label='Training Score')\n",
    "plt.plot(train_sizes[max_index], np.mean(test_scores[max_index], axis=1), 'o-', color='g', label='Cross-Validation Score')\n",
    "plt.legend(loc='best')\n",
    "plt.show()\n"
   ]
  },
  {
   "cell_type": "code",
   "execution_count": null,
   "id": "502c7b1e",
   "metadata": {},
   "outputs": [],
   "source": []
  }
 ],
 "metadata": {
  "kernelspec": {
   "display_name": "Python 3 (ipykernel)",
   "language": "python",
   "name": "python3"
  },
  "language_info": {
   "codemirror_mode": {
    "name": "ipython",
    "version": 3
   },
   "file_extension": ".py",
   "mimetype": "text/x-python",
   "name": "python",
   "nbconvert_exporter": "python",
   "pygments_lexer": "ipython3",
   "version": "3.10.2"
  }
 },
 "nbformat": 4,
 "nbformat_minor": 5
}
